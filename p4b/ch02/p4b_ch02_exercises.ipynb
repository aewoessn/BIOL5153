{
 "cells": [
  {
   "cell_type": "markdown",
   "metadata": {},
   "source": [
    "# Programming for Biologists\n",
    "## Chapter 2 Exercises"
   ]
  },
  {
   "cell_type": "markdown",
   "metadata": {},
   "source": [
    "### Exercise 1\n",
    "#### _Calculating the AT content_"
   ]
  },
  {
   "cell_type": "code",
   "execution_count": 30,
   "metadata": {},
   "outputs": [
    {
     "name": "stdout",
     "output_type": "stream",
     "text": [
      "The AT content of the dna sequence is: 68.51851851851852%\n"
     ]
    }
   ],
   "source": [
    "# Initialize the DNA sequence\n",
    "dnaSeq = 'ACTGATCGATTACGTATAGTATTTGCTATCATACATATATATCGATGCGTTCAT';\n",
    "\n",
    "# Find the number of occurences of \"AT\"\n",
    "occurencesA = dnaSeq.count('A');\n",
    "occurencesT = dnaSeq.count('T');\n",
    "\n",
    "# Find how many possible times \"AT\" can occur\n",
    "totalNum = len(dnaSeq);\n",
    "\n",
    "# Calculate the AT content\n",
    "content = ((occurencesA+occurencesT)/totalNum)*100;\n",
    "\n",
    "print('The AT content of the dna sequence is: ' + str(content) + '%');"
   ]
  },
  {
   "cell_type": "markdown",
   "metadata": {},
   "source": [
    "### Exercise 2\n",
    "#### _Complementing DNA_"
   ]
  },
  {
   "cell_type": "code",
   "execution_count": 31,
   "metadata": {},
   "outputs": [
    {
     "name": "stdout",
     "output_type": "stream",
     "text": [
      "Original: ACTGATCGATTACGTATAGTATTTGCTATCATACATATATATCGATGCGTTCAT\n",
      "Final: TGACTAGCTAATGCATATCATAAACGATAGTATGTATATATAGCTACGCAAGTA\n"
     ]
    }
   ],
   "source": [
    "# Initialize the DNA sequence\n",
    "dnaSeq = 'ACTGATCGATTACGTATAGTATTTGCTATCATACATATATATCGATGCGTTCAT';\n",
    "\n",
    "# Convert dna sequence to lowercase complements\n",
    "dnaSeqA = dnaSeq.replace('A','t');\n",
    "dnaSeqAT = dnaSeqA.replace('T','a');\n",
    "dnaSeqATC = dnaSeqAT.replace('C','g');\n",
    "dnaSeqATCG = dnaSeqATC.replace('G','c');\n",
    "\n",
    "# Print the final sequence\n",
    "print('Original: ' + dnaSeq.upper());\n",
    "print('Final: ' + dnaSeqATCG.upper());"
   ]
  },
  {
   "cell_type": "markdown",
   "metadata": {},
   "source": [
    "### Exercise 3\n",
    "#### _Restriction fragment lengths_"
   ]
  },
  {
   "cell_type": "code",
   "execution_count": 32,
   "metadata": {},
   "outputs": [
    {
     "name": "stdout",
     "output_type": "stream",
     "text": [
      "Before cut length: 22\n",
      "After cut length: 33\n"
     ]
    }
   ],
   "source": [
    "# Initialize the DNA sequence\n",
    "dnaSeq = 'ACTGATCGATTACGTATAGTAGAATTCTATCATACATATATATCGATGCGTTCAT';\n",
    "\n",
    "# Find where the cut location is\n",
    "ind = dnaSeq.find('GAATTC');\n",
    "\n",
    "# Since the cut location is the seoncd location of the motif, add 1 to the ind\n",
    "ind = ind + 1;\n",
    "\n",
    "# Calculate the length of each piece after the cut\n",
    "before = len(dnaSeq[0:ind]);\n",
    "after = len(dnaSeq[ind:len(dnaSeq)]);\n",
    "\n",
    "print('Before cut length: ' + str(before));\n",
    "print('After cut length: ' + str(after));"
   ]
  },
  {
   "cell_type": "markdown",
   "metadata": {},
   "source": [
    "### Exercise 4\n",
    "#### _Splicing out introns, part 1_"
   ]
  },
  {
   "cell_type": "code",
   "execution_count": 33,
   "metadata": {},
   "outputs": [
    {
     "name": "stdout",
     "output_type": "stream",
     "text": [
      "First exon: ATCGATCGATCGATCGACTGACTAGTCATAGCTATGCATGTAGCTACTCGATCGATCGATCGA\n",
      "Second exon: TCATCGATCGATATCGATGCATCGACTACTAT\n",
      "Intron: CGATCGATCGATCGATCGATCATGCT\n"
     ]
    }
   ],
   "source": [
    "# Initialize DNA sequence\n",
    "dnaSeq = 'ATCGATCGATCGATCGACTGACTAGTCATAGCTATGCATGTAGCTACTCGATCGATCGATCGATCGATCGATCGATCGATCGATCATGCTATCATCGATCGATATCGATGCATCGACTACTAT';\n",
    "\n",
    "# Parse the sequence\n",
    "exon1 = dnaSeq[0:63];\n",
    "exon2 = dnaSeq[91:len(dnaSeq)];\n",
    "intron = dnaSeq[64:90];\n",
    "\n",
    "# Print out the introns and exons\n",
    "print('First exon: ' + exon1);\n",
    "print('Second exon: ' + exon2);\n",
    "print('Intron: ' + intron);\n"
   ]
  },
  {
   "cell_type": "markdown",
   "metadata": {},
   "source": [
    "### Exercise 5\n",
    "#### _Splicing out introns, part 2_"
   ]
  },
  {
   "cell_type": "code",
   "execution_count": 34,
   "metadata": {},
   "outputs": [
    {
     "name": "stdout",
     "output_type": "stream",
     "text": [
      "Percentage of 77.23577235772358\n"
     ]
    }
   ],
   "source": [
    "# Find the total percentage of DNA sequence just for coding\n",
    "print('Percentage of ' + str(((len(exon1)+len(exon2))/len(dnaSeq))*100))"
   ]
  },
  {
   "cell_type": "markdown",
   "metadata": {},
   "source": [
    "### Exercise 6\n",
    "#### _Splicing out introns, part 3_"
   ]
  },
  {
   "cell_type": "code",
   "execution_count": 35,
   "metadata": {},
   "outputs": [
    {
     "name": "stdout",
     "output_type": "stream",
     "text": [
      "ATCGATCGATCGATCGACTGACTAGTCATAGCTATGCATGTAGCTACTCGATCGATCGATCGAcgatcgatcgatcgatcgatcatgctTCATCGATCGATATCGATGCATCGACTACTAT\n"
     ]
    }
   ],
   "source": [
    "# Print the exons in uppercase and introns in lowercase\n",
    "print(exon1.upper() + intron.lower() + exon2.upper());"
   ]
  }
 ],
 "metadata": {
  "kernelspec": {
   "display_name": "Python 3",
   "language": "python",
   "name": "python3"
  },
  "language_info": {
   "codemirror_mode": {
    "name": "ipython",
    "version": 3
   },
   "file_extension": ".py",
   "mimetype": "text/x-python",
   "name": "python",
   "nbconvert_exporter": "python",
   "pygments_lexer": "ipython3",
   "version": "3.7.1"
  }
 },
 "nbformat": 4,
 "nbformat_minor": 2
}
