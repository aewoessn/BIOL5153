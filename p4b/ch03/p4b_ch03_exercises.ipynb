{
 "cells": [
  {
   "cell_type": "markdown",
   "metadata": {},
   "source": [
    "# Programming for Biologists\n",
    "## Chapter 3 Exercises\n",
    "## Reading and Writing Files"
   ]
  },
  {
   "cell_type": "markdown",
   "metadata": {},
   "source": [
    "### Exercise 1"
   ]
  },
  {
   "cell_type": "code",
   "execution_count": 10,
   "metadata": {},
   "outputs": [
    {
     "name": "stdout",
     "output_type": "stream",
     "text": [
      "ATCGATCGATCGATCGACTGACTAGTCATAGCTATGCATGTAGCTACTCGATCGATCGATCGATCGATCGATCGATCGATCGATCATGCTATCATCGATCGATATCGATGCATCGACTACTAT\n",
      "First exon: ATCGATCGATCGATCGACTGACTAGTCATAGCTATGCATGTAGCTACTCGATCGATCGATCGA\n",
      "Second exon: TCATCGATCGATATCGATGCATCGACTACTAT\n",
      "Intron: CGATCGATCGATCGATCGATCATGCT\n",
      "ATCGATCGATCGATCGACTGACTAGTCATAGCTATGCATGTAGCTACTCGATCGATCGATCGA\n",
      "TCATCGATCGATATCGATGCATCGACTACTAT\n",
      "CGATCGATCGATCGATCGATCATGCT\n"
     ]
    }
   ],
   "source": [
    "# Open the file\n",
    "file = open('genomic_dna.txt');\n",
    "dnaSeq = file.read();\n",
    "\n",
    "# Thank the file \n",
    "file.close();\n",
    "\n",
    "# Double-check the file contents\n",
    "print(fileContents)\n",
    "\n",
    "# Parse the sequence like before\n",
    "exon1 = dnaSeq[0:63];\n",
    "exon2 = dnaSeq[91:len(dnaSeq)];\n",
    "intron = dnaSeq[64:90];\n",
    "\n",
    "# Print out the introns and exons\n",
    "print('First exon: ' + exon1);\n",
    "print('Second exon: ' + exon2);\n",
    "print('Intron: ' + intron);\n",
    "\n",
    "# Write the coding (exons) and non-coding (introns) portions\n",
    "file = open('p4b_ch03_exercise1_coding.txt','w');\n",
    "file.write(exon1 + \"\\n\" + exon2);\n",
    "file.close();\n",
    "\n",
    "file = open('p4b_ch03_exercise1_noncoding.txt','w');\n",
    "file.write(intron);\n",
    "file.close();\n",
    "\n",
    "# Double check output\n",
    "file = open('p4b_ch03_exercise1_coding.txt');\n",
    "print(file.read());\n",
    "file.close();\n",
    "\n",
    "file = open('p4b_ch03_exercise1_noncoding.txt');\n",
    "print(file.read());\n",
    "file.close();"
   ]
  },
  {
   "cell_type": "markdown",
   "metadata": {},
   "source": [
    "### Exercise 2"
   ]
  },
  {
   "cell_type": "code",
   "execution_count": 2,
   "metadata": {},
   "outputs": [
    {
     "name": "stdout",
     "output_type": "stream",
     "text": [
      ">ABC123\n",
      "ATCGTACGATCGATCGATCGCTAGACGTATCG\n",
      ">DEF456\n",
      "actgatcgacgatcgatcgatcacgact\n",
      ">HIJ789\n",
      "ACTGAC-ACTGT--ACTGTA----CATGTG\n"
     ]
    }
   ],
   "source": [
    "# Write a .fasta file with the appropriate headers and sequences\n",
    "file = open('p4b_ch03_exercise2.fasta','w');\n",
    "header1 = 'ABC123';\n",
    "header2 = 'DEF456';\n",
    "header3 = 'HIJ789';\n",
    "seq1 = 'ATCGTACGATCGATCGATCGCTAGACGTATCG';\n",
    "seq2 = 'actgatcgacgatcgatcgatcacgact';\n",
    "seq3 = 'ACTGAC-ACTGT--ACTGTA----CATGTG';\n",
    "\n",
    "file.write('>' + header1 + '\\n' + seq1 + '\\n' + '>' + header2 + '\\n' + seq2 + '\\n' + '>' + header3 + '\\n' + seq3);\n",
    "\n",
    "# Thank the file\n",
    "file.close();\n",
    "\n",
    "# Double check output\n",
    "file = open('p4b_ch03_exercise2.fasta');\n",
    "print(file.read());\n",
    "file.close();"
   ]
  },
  {
   "cell_type": "markdown",
   "metadata": {},
   "source": [
    "### Exercise 3"
   ]
  },
  {
   "cell_type": "code",
   "execution_count": 6,
   "metadata": {},
   "outputs": [
    {
     "name": "stdout",
     "output_type": "stream",
     "text": [
      ">ABC123\n",
      "ATCGTACGATCGATCGATCGCTAGACGTATCG\n",
      "\n",
      "\n",
      ">DEF456\n",
      "actgatcgacgatcgatcgatcacgact\n",
      "\n",
      "\n",
      ">HIJ789\n",
      "ACTGAC-ACTGT--ACTGTA----CATGTG\n"
     ]
    }
   ],
   "source": [
    "# Use the same data from the previous exercise, and write three .fasta files\n",
    "file1 = open('p4b_ch03_exercise3_data1.fasta','w');\n",
    "file2 = open('p4b_ch03_exercise3_data2.fasta','w');\n",
    "file3 = open('p4b_ch03_exercise3_data3.fasta','w');\n",
    "\n",
    "header1 = 'ABC123';\n",
    "header2 = 'DEF456';\n",
    "header3 = 'HIJ789';\n",
    "\n",
    "seq1 = 'ATCGTACGATCGATCGATCGCTAGACGTATCG';\n",
    "seq2 = 'actgatcgacgatcgatcgatcacgact';\n",
    "seq3 = 'ACTGAC-ACTGT--ACTGTA----CATGTG';\n",
    "\n",
    "file1.write('>' + header1 + '\\n' + seq1);\n",
    "file2.write('>' + header2 + '\\n' + seq2);\n",
    "file3.write('>' + header3 + '\\n' + seq3); \n",
    "           \n",
    "# Thank the file\n",
    "file1.close();\n",
    "file2.close();\n",
    "file3.close();\n",
    "\n",
    "# Double check output\n",
    "file = open('p4b_ch03_exercise3_data1.fasta');\n",
    "print(file.read());\n",
    "file.close();\n",
    "print('\\n');\n",
    "\n",
    "file = open('p4b_ch03_exercise3_data2.fasta');\n",
    "print(file.read());\n",
    "file.close();\n",
    "print('\\n');\n",
    "\n",
    "file = open('p4b_ch03_exercise3_data3.fasta');\n",
    "print(file.read());\n",
    "file.close();"
   ]
  }
 ],
 "metadata": {
  "kernelspec": {
   "display_name": "Python 3",
   "language": "python",
   "name": "python3"
  },
  "language_info": {
   "codemirror_mode": {
    "name": "ipython",
    "version": 3
   },
   "file_extension": ".py",
   "mimetype": "text/x-python",
   "name": "python",
   "nbconvert_exporter": "python",
   "pygments_lexer": "ipython3",
   "version": "3.7.1"
  }
 },
 "nbformat": 4,
 "nbformat_minor": 2
}
