{
 "cells": [
  {
   "cell_type": "markdown",
   "metadata": {},
   "source": [
    "# Programming for Biologists\n",
    "## Chapter 3 In-Chapter Examples \n",
    "## Reading and Writing Files"
   ]
  },
  {
   "cell_type": "markdown",
   "metadata": {},
   "source": [
    "### Load a text file using the open function"
   ]
  },
  {
   "cell_type": "code",
   "execution_count": 25,
   "metadata": {},
   "outputs": [
    {
     "name": "stdout",
     "output_type": "stream",
     "text": [
      "THIS_IS_A_DNA_SEQUENCE\n",
      "\n",
      "Sequence is THIS_IS_A_DNA_SEQUENCE\n",
      " and the length is 23\n",
      "Sequence is THIS_IS_A_DNA_SEQUENCE and the length is 22\n",
      "Sequence is THIS_IS_A_DNA_SEQUENCE and the length is 22\n"
     ]
    }
   ],
   "source": [
    "# Attempt to open the file\n",
    "file = open('dna.txt');\n",
    "\n",
    "# Read into the file object using read\n",
    "fileContents = file.read();\n",
    "print(fileContents)\n",
    "\n",
    "# Thank the file for its time\n",
    "file.close();\n",
    "\n",
    "# Try printing the contents in a string\n",
    "print('Sequence is ' + fileContents + ' and the length is ' + str(len(fileContents)));\n",
    "\n",
    "# Strip off the line break using rstrip\n",
    "fileContents = fileContents.rstrip(\"\\n\");\n",
    "\n",
    "# Try printing the contents in a string (again)\n",
    "print('Sequence is ' + fileContents + ' and the length is ' + str(len(fileContents)));\n",
    "\n",
    "# Try rstrip without any options\n",
    "fileContents = fileContents.rstrip();\n",
    "\n",
    "# Try printing the contents in a string (again)\n",
    "print('Sequence is ' + fileContents + ' and the length is ' + str(len(fileContents)));\n"
   ]
  },
  {
   "cell_type": "markdown",
   "metadata": {},
   "source": [
    "### Write files using write"
   ]
  },
  {
   "cell_type": "code",
   "execution_count": 29,
   "metadata": {},
   "outputs": [
    {
     "name": "stdout",
     "output_type": "stream",
     "text": [
      "Hello World\n"
     ]
    }
   ],
   "source": [
    "# Create a new file\n",
    "file = open(\"out.txt\",\"w\");\n",
    "\n",
    "# Write contents to the file using write\n",
    "file.write(\"Hello World\");\n",
    "\n",
    "# Thank the file for its time\n",
    "file.close();\n",
    "\n",
    "# Read into the file object using read\n",
    "fileContents = open(\"out.txt\").read();\n",
    "print(fileContents)\n",
    "\n",
    "# Thank the file for its time\n",
    "file.close();"
   ]
  }
 ],
 "metadata": {
  "kernelspec": {
   "display_name": "Python 3",
   "language": "python",
   "name": "python3"
  },
  "language_info": {
   "codemirror_mode": {
    "name": "ipython",
    "version": 3
   },
   "file_extension": ".py",
   "mimetype": "text/x-python",
   "name": "python",
   "nbconvert_exporter": "python",
   "pygments_lexer": "ipython3",
   "version": "3.7.1"
  }
 },
 "nbformat": 4,
 "nbformat_minor": 2
}
