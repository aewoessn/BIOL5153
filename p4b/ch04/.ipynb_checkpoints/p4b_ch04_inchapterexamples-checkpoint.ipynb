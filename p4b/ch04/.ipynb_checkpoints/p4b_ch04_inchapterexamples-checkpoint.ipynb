{
 "cells": [
  {
   "cell_type": "markdown",
   "metadata": {},
   "source": [
    "# Programming for Biologists\n",
    "## Chapter 4 In-chapter Examples\n",
    "## Lists and Loops"
   ]
  },
  {
   "cell_type": "markdown",
   "metadata": {},
   "source": [
    "### Creating lists and retrieving elements"
   ]
  },
  {
   "cell_type": "code",
   "execution_count": 4,
   "metadata": {},
   "outputs": [
    {
     "name": "stdout",
     "output_type": "stream",
     "text": [
      "Homo sapiens\n"
     ]
    }
   ],
   "source": [
    "# Make a list \n",
    "apes = [\"Homo sapiens\", \"Pan troglodytes\", \"Gorilla gorilla\"];\n",
    "conserved_sites = [24,56,132];\n",
    "\n",
    "# Access a certain element within each list\n",
    "print(apes[0]);\n",
    "first_site = conserved_sites[2];\n",
    "\n",
    "# Find the index of a certain entry\n",
    "chimp_index = apes.index(\"Pan troglodytes\");\n",
    "\n",
    "# Access the last element by using a negative number\n",
    "last_ape = apes[-1];\n",
    "\n",
    "# Create a new list\n",
    "ranks = [\"kingdom\",\"phylum\",\"class\",\"order\",\"family\"];\n",
    "lower_ranks = ranks[2:5];"
   ]
  },
  {
   "cell_type": "markdown",
   "metadata": {},
   "source": [
    "### Working with list elements"
   ]
  },
  {
   "cell_type": "code",
   "execution_count": 5,
   "metadata": {},
   "outputs": [
    {
     "name": "stdout",
     "output_type": "stream",
     "text": [
      "There are 3 apes\n",
      "Now there are 4 apes\n"
     ]
    }
   ],
   "source": [
    "# Create a list, and append a value\n",
    "apes = [\"Homo sapiens\", \"Pan troglodytes\", \"Gorilla gorilla\"];\n",
    "print(\"There are \" + str(len(apes)) + \" apes\");\n",
    "apes.append(\"Pan paniscus\");\n",
    "print(\"Now there are \" + str(len(apes)) + \" apes\");\n",
    "\n"
   ]
  }
 ],
 "metadata": {
  "kernelspec": {
   "display_name": "Python 3",
   "language": "python",
   "name": "python3"
  },
  "language_info": {
   "codemirror_mode": {
    "name": "ipython",
    "version": 3
   },
   "file_extension": ".py",
   "mimetype": "text/x-python",
   "name": "python",
   "nbconvert_exporter": "python",
   "pygments_lexer": "ipython3",
   "version": "3.7.1"
  }
 },
 "nbformat": 4,
 "nbformat_minor": 2
}
