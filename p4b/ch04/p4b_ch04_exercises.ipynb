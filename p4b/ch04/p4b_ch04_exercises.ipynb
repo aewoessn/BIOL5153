{
 "cells": [
  {
   "cell_type": "markdown",
   "metadata": {},
   "source": [
    "# Programming for Biologists\n",
    "## Chapter 4 Exercises\n",
    "## Lists and Loops"
   ]
  },
  {
   "cell_type": "markdown",
   "metadata": {},
   "source": [
    "### Exercise 1"
   ]
  },
  {
   "cell_type": "code",
   "execution_count": 17,
   "metadata": {},
   "outputs": [
    {
     "name": "stdout",
     "output_type": "stream",
     "text": [
      "Sequence length: 42\n",
      "Sequence length: 37\n",
      "Sequence length: 48\n",
      "Sequence length: 33\n",
      "Sequence length: 47\n",
      "TCGATCGATCGATCGATCGATCGATCGATCGATCGATCGATC\n",
      "ACTGATCGATCGATCGATCGATCGATGCTATCGTCGT\n",
      "ATCGATCACGATCTATCGTACGTATGCATATCGATATCGATCGTAGTC\n",
      "ACTATCGATGATCTAGCTACGATCGTAGCTGTA\n",
      "ACTAGCTAGTCTCGATGCATGATCAGCTTAGCTGATGATGCTATGCA\n",
      "\n"
     ]
    }
   ],
   "source": [
    "# Open the input file\n",
    "file = open('../textbook/python_for_biologists_exercises/exercises and examples/lists_and_loops/exercises/input.txt');\n",
    "\n",
    "# Open the output file\n",
    "output = open('p4b_ch04_exercise1_output.txt','w');\n",
    "\n",
    "# Cut the first 14 base pair fragments of each entry, and write them to a file\n",
    "for i in file:\n",
    "    dnaSeq = i[14:-1];\n",
    "    output.write(dnaSeq + \"\\n\");\n",
    "    print(\"Sequence length: \" + str(len(dnaSeq)));\n",
    "    \n",
    "# Thank the file for its time\n",
    "file.close();\n",
    "output.close();\n",
    "\n",
    "# Double check the output\n",
    "file = open('p4b_ch04_exercise1_output.txt');\n",
    "print(file.read());\n",
    "file.close();"
   ]
  },
  {
   "cell_type": "markdown",
   "metadata": {},
   "source": [
    "### Exercise 2"
   ]
  },
  {
   "cell_type": "code",
   "execution_count": 36,
   "metadata": {},
   "outputs": [
    {
     "name": "stdout",
     "output_type": "stream",
     "text": [
      "Sequence : \n",
      "CGTACCGTCGACGATGCTACGATCGTCGATCGTAGTCGATCATCGATCGATCG\n",
      "Sequence : \n",
      "CGATCGATCGATATCGATCGATATCATCGATGCATCGATCATCGATCGATCGATCGATCGA\n",
      "Sequence : \n",
      "CGATCGATCGATCGTAGCTAGCTAGCTAGATCGATCATCATCGTAGCTAGCTCGACTAGCTACGTACGATCGATGCATCGATCGTA\n",
      "Sequence : \n",
      "CGATCGATCGATCGATCGATCGATCGATCGATCGATCGATCGTAGCTAGCTACGATCG\n",
      "\n"
     ]
    }
   ],
   "source": [
    "# Open the input files\n",
    "file1 = open('../textbook/python_for_biologists_exercises/exercises and examples/lists_and_loops/exercises/genomic_dna.txt');\n",
    "file2 = open('../textbook/python_for_biologists_exercises/exercises and examples/lists_and_loops/exercises/exons.txt');\n",
    "\n",
    "dnaSeq = file1.read();\n",
    "\n",
    "# Thank the file for its time\n",
    "file1.close();\n",
    "\n",
    "# Initialize the output file\n",
    "output = open(\"p4b_ch04_exercise2_output.txt\",'w');\n",
    "\n",
    "# Go through each line, get the start/stop positions, extract that prt of the dna sequence, and write it to a file \n",
    "for i in file2:\n",
    "    startStop = i.rstrip(\"\\n\");\n",
    "    startStop = startStop.split(',');\n",
    "    subSeq = dnaSeq[int(startStop[0]):int(startStop[1])]\n",
    "    output.write('Sequence : \\n' + subSeq + '\\n');\n",
    "    \n",
    "# Thank the file(s) for their time\n",
    "file2.close();\n",
    "output.close();\n",
    "\n",
    "# Double check the output\n",
    "file = open('p4b_ch04_exercise2_output.txt');\n",
    "print(file.read());\n",
    "file.close();"
   ]
  }
 ],
 "metadata": {
  "kernelspec": {
   "display_name": "Python 3",
   "language": "python",
   "name": "python3"
  },
  "language_info": {
   "codemirror_mode": {
    "name": "ipython",
    "version": 3
   },
   "file_extension": ".py",
   "mimetype": "text/x-python",
   "name": "python",
   "nbconvert_exporter": "python",
   "pygments_lexer": "ipython3",
   "version": "3.7.1"
  }
 },
 "nbformat": 4,
 "nbformat_minor": 2
}
