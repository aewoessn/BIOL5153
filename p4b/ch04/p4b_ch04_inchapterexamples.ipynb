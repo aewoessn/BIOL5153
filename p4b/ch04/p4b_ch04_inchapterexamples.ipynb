{
 "cells": [
  {
   "cell_type": "markdown",
   "metadata": {},
   "source": [
    "# Programming for Biologists\n",
    "## Chapter 4 In-chapter Examples\n",
    "## Lists and Loops"
   ]
  },
  {
   "cell_type": "markdown",
   "metadata": {},
   "source": [
    "### Creating lists and retrieving elements"
   ]
  },
  {
   "cell_type": "code",
   "execution_count": 4,
   "metadata": {},
   "outputs": [
    {
     "name": "stdout",
     "output_type": "stream",
     "text": [
      "Homo sapiens\n"
     ]
    }
   ],
   "source": [
    "# Make a list \n",
    "apes = [\"Homo sapiens\", \"Pan troglodytes\", \"Gorilla gorilla\"];\n",
    "conserved_sites = [24,56,132];\n",
    "\n",
    "# Access a certain element within each list\n",
    "print(apes[0]);\n",
    "first_site = conserved_sites[2];\n",
    "\n",
    "# Find the index of a certain entry\n",
    "chimp_index = apes.index(\"Pan troglodytes\");\n",
    "\n",
    "# Access the last element by using a negative number\n",
    "last_ape = apes[-1];\n",
    "\n",
    "# Create a new list\n",
    "ranks = [\"kingdom\",\"phylum\",\"class\",\"order\",\"family\"];\n",
    "lower_ranks = ranks[2:5];"
   ]
  },
  {
   "cell_type": "markdown",
   "metadata": {},
   "source": [
    "### Working with list elements"
   ]
  },
  {
   "cell_type": "code",
   "execution_count": 7,
   "metadata": {},
   "outputs": [
    {
     "name": "stdout",
     "output_type": "stream",
     "text": [
      "There are 3 apes\n",
      "Now there are 4 apes\n",
      "3 apes\n",
      "2 monkeys\n",
      "5 primates\n",
      "At the start : ['kingdom', 'phylum', 'class', 'order', 'family']\n",
      "After reversing : ['family', 'order', 'class', 'phylum', 'kingdom']\n",
      "After sorting : ['class', 'family', 'kingdom', 'order', 'phylum']\n"
     ]
    }
   ],
   "source": [
    "# Create a list, and append a value\n",
    "apes = [\"Homo sapiens\", \"Pan troglodytes\", \"Gorilla gorilla\"];\n",
    "print(\"There are \" + str(len(apes)) + \" apes\");\n",
    "apes.append(\"Pan paniscus\");\n",
    "print(\"Now there are \" + str(len(apes)) + \" apes\");\n",
    "\n",
    "# Concatenate lists\n",
    "apes = [\"Homo sapiens\", \"Pan troglodytes\", \"Gorilla gorilla\"];\n",
    "monkeys = [\"Papio ursinus\", \"Macaca mulatta\"];\n",
    "primates = apes + monkeys;\n",
    "\n",
    "print(str(len(apes)) + \" apes\");\n",
    "print(str(len(monkeys)) + \" monkeys\");\n",
    "print(str(len(primates)) + \" primates\");\n",
    "\n",
    "# Sort and reverse a list\n",
    "ranks = [\"kingdom\",\"phylum\",\"class\",\"order\",\"family\"];\n",
    "print(\"At the start : \" + str(ranks));\n",
    "ranks.reverse();\n",
    "print(\"After reversing : \" + str(ranks));\n",
    "ranks.sort();\n",
    "print(\"After sorting : \" + str(ranks));\n"
   ]
  },
  {
   "cell_type": "markdown",
   "metadata": {},
   "source": [
    "### Writing a loop"
   ]
  },
  {
   "cell_type": "code",
   "execution_count": 9,
   "metadata": {},
   "outputs": [
    {
     "name": "stdout",
     "output_type": "stream",
     "text": [
      "Homo sapiens is an ape. Its name starts with H\n",
      "Its name has 12 letters\n",
      "Pan troglodytes is an ape. Its name starts with P\n",
      "Its name has 15 letters\n",
      "Gorilla gorilla is an ape. Its name starts with G\n",
      "Its name has 15 letters\n"
     ]
    }
   ],
   "source": [
    "apes = [\"Homo sapiens\", \"Pan troglodytes\", \"Gorilla gorilla\"];\n",
    "\n",
    "# Print out each ape using a loop\n",
    "for ape in apes:\n",
    "    name_length = len(ape);\n",
    "    first_letter = ape[0];\n",
    "    print(ape + \" is an ape. Its name starts with \" + first_letter);\n",
    "    print(\"Its name has \" + str(name_length) + \" letters\");"
   ]
  },
  {
   "cell_type": "markdown",
   "metadata": {},
   "source": [
    "### Using a string as a list"
   ]
  },
  {
   "cell_type": "code",
   "execution_count": 10,
   "metadata": {},
   "outputs": [
    {
     "name": "stdout",
     "output_type": "stream",
     "text": [
      "One character is m\n",
      "One character is a\n",
      "One character is r\n",
      "One character is t\n",
      "One character is i\n",
      "One character is n\n"
     ]
    }
   ],
   "source": [
    "# Create a string\n",
    "name = \"martin\";\n",
    "\n",
    "# Loop through each entry of the string\n",
    "for character in name:\n",
    "    print(\"One character is \" + character);\n",
    "    "
   ]
  },
  {
   "cell_type": "markdown",
   "metadata": {},
   "source": [
    "### Splitting a string to make a list"
   ]
  },
  {
   "cell_type": "code",
   "execution_count": 11,
   "metadata": {},
   "outputs": [
    {
     "name": "stdout",
     "output_type": "stream",
     "text": [
      "['melanogaster', 'simulans', 'yakuba', 'ananassae']\n"
     ]
    }
   ],
   "source": [
    "# Create a string of entries\n",
    "names = \"melanogaster,simulans,yakuba,ananassae\";\n",
    "\n",
    "# Parse the string into a list using the split method\n",
    "species = names.split(\",\");\n",
    "print(str(species));\n"
   ]
  },
  {
   "cell_type": "markdown",
   "metadata": {},
   "source": [
    "### Looping with ranges"
   ]
  },
  {
   "cell_type": "code",
   "execution_count": 12,
   "metadata": {},
   "outputs": [
    {
     "name": "stdout",
     "output_type": "stream",
     "text": [
      "vls\n",
      "vlsp\n",
      "vlspa\n",
      "vlspad\n",
      "vlspadk\n",
      "vlspadkt\n",
      "vlspadktn\n"
     ]
    }
   ],
   "source": [
    "# Imagine we have a protein secquence\n",
    "protein = \"vlspadktnv\";\n",
    "\n",
    "for number in range(3,10):\n",
    "    print(protein[0:number]);\n",
    "    "
   ]
  }
 ],
 "metadata": {
  "kernelspec": {
   "display_name": "Python 3",
   "language": "python",
   "name": "python3"
  },
  "language_info": {
   "codemirror_mode": {
    "name": "ipython",
    "version": 3
   },
   "file_extension": ".py",
   "mimetype": "text/x-python",
   "name": "python",
   "nbconvert_exporter": "python",
   "pygments_lexer": "ipython3",
   "version": "3.7.1"
  }
 },
 "nbformat": 4,
 "nbformat_minor": 2
}
