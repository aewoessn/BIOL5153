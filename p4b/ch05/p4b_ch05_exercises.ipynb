{
 "cells": [
  {
   "cell_type": "markdown",
   "metadata": {},
   "source": [
    "# Programming for Biologists\n",
    "## Chapter 5 Exercises\n",
    "## User-made Functions"
   ]
  },
  {
   "cell_type": "markdown",
   "metadata": {},
   "source": [
    "### Exercise 1"
   ]
  },
  {
   "cell_type": "code",
   "execution_count": 5,
   "metadata": {},
   "outputs": [],
   "source": [
    "# Function that takes protein sequence and amino acid residue code,\n",
    "# and outputs percentage of the protein\n",
    "\n",
    "def residuePercentage(proteinSequence,residueCode):\n",
    "    \n",
    "    # Find the total number of residues\n",
    "    length = len(proteinSequence);\n",
    "    \n",
    "    # Count the number of times a residue code comes up in the sequence\n",
    "    occurences = proteinSequence.upper().count(residueCode.upper());\n",
    "    \n",
    "    # Return the percentage\n",
    "    return (occurences/length)*100\n",
    "\n",
    "# Test the function with assert\n",
    "assert residuePercentage(\"MSRSLLLRFLLFLLLLPPLP\",\"M\") == 5\n",
    "assert residuePercentage(\"MSRSLLLRFLLFLLLLPPLP\",\"r\") == 10\n",
    "assert residuePercentage(\"MSRSLLLRFLLFLLLLPPLP\",\"L\") == 50\n",
    "assert residuePercentage(\"MSRSLLLRFLLFLLLLPPLP\",\"Y\") == 0"
   ]
  },
  {
   "cell_type": "markdown",
   "metadata": {},
   "source": [
    "### Exercise 2"
   ]
  },
  {
   "cell_type": "code",
   "execution_count": 23,
   "metadata": {},
   "outputs": [
    {
     "data": {
      "text/plain": [
       "55.00000000000001"
      ]
     },
     "execution_count": 23,
     "metadata": {},
     "output_type": "execute_result"
    }
   ],
   "source": [
    "# Modify the function such that it accepts a list of residues\n",
    "\n",
    "def residuePercentage(proteinSequence,residueCodeList = ['A','I','L','M','F','W','Y','V']):\n",
    "    \n",
    "    # Find the total number of residues\n",
    "    length = len(proteinSequence);\n",
    "    \n",
    "    # Count the number of times a residue code comes up in the sequence\n",
    "    total = 0;\n",
    "    for i in residueCodeList:\n",
    "        total = total + proteinSequence.upper().count(i.upper());\n",
    "        \n",
    "    # Return the percentage\n",
    "    return round((total/length)*100)\n",
    "\n",
    "assert residuePercentage(\"MSRSLLLRFLLFLLLLPPLP\",\"M\") == 5\n",
    "assert residuePercentage(\"MSRSLLLRFLLFLLLLPPLP\",['M','L']) == 55\n",
    "assert residuePercentage(\"MSRSLLLRFLLFLLLLPPLP\",['F','S','L']) == 70\n",
    "assert residuePercentage(\"MSRSLLLRFLLFLLLLPPLP\") == 65"
   ]
  }
 ],
 "metadata": {
  "kernelspec": {
   "display_name": "Python 3",
   "language": "python",
   "name": "python3"
  },
  "language_info": {
   "codemirror_mode": {
    "name": "ipython",
    "version": 3
   },
   "file_extension": ".py",
   "mimetype": "text/x-python",
   "name": "python",
   "nbconvert_exporter": "python",
   "pygments_lexer": "ipython3",
   "version": "3.7.1"
  }
 },
 "nbformat": 4,
 "nbformat_minor": 2
}
