{
 "cells": [
  {
   "cell_type": "markdown",
   "metadata": {},
   "source": [
    "# Programming for Biologists\n",
    "## Chapter 5 In-chapter Examples\n",
    "## User-made Functions"
   ]
  },
  {
   "cell_type": "markdown",
   "metadata": {},
   "source": [
    "### Defining a function"
   ]
  },
  {
   "cell_type": "code",
   "execution_count": 2,
   "metadata": {},
   "outputs": [],
   "source": [
    "# Generate a function whose input is a string of dna sequences,\n",
    "# and the output is the A/T content\n",
    "\n",
    "def get_at_content(dna):\n",
    "    length = len(dna);\n",
    "    a_count = dna.count('A');\n",
    "    t_count = dna.count('T');\n",
    "    at_content = (a_count+t_count)/length;\n",
    "    return at_content\n",
    "#end\n",
    "\n",
    "at_content = get_at_content(\"ATGACTGGACCA\")\n"
   ]
  },
  {
   "cell_type": "markdown",
   "metadata": {},
   "source": [
    "### Calling and improving our function"
   ]
  },
  {
   "cell_type": "code",
   "execution_count": 6,
   "metadata": {},
   "outputs": [
    {
     "name": "stdout",
     "output_type": "stream",
     "text": [
      "0.5\n",
      "0.53\n",
      "0.529\n"
     ]
    }
   ],
   "source": [
    "def get_at_content(dna, sig_figs): # Add a significant figures input\n",
    "    length = len(dna);\n",
    "    a_count = dna.count('A');\n",
    "    t_count = dna.count('T');\n",
    "    at_content = (a_count+t_count)/length;\n",
    "    return round(at_content,sig_figs) # Improve the rounding of the returned value\n",
    "#end\n",
    "\n",
    "test_dna = \"ATGCATGCAACTGTAGC\";\n",
    "print(get_at_content(test_dna, 1))\n",
    "print(get_at_content(test_dna, 2))\n",
    "print(get_at_content(test_dna, 3))"
   ]
  },
  {
   "cell_type": "markdown",
   "metadata": {},
   "source": [
    "### Calling functions with named arguments"
   ]
  },
  {
   "cell_type": "code",
   "execution_count": 12,
   "metadata": {},
   "outputs": [
    {
     "ename": "SyntaxError",
     "evalue": "positional argument follows keyword argument (<ipython-input-12-fc32dc9ce785>, line 18)",
     "output_type": "error",
     "traceback": [
      "\u001b[0;36m  File \u001b[0;32m\"<ipython-input-12-fc32dc9ce785>\"\u001b[0;36m, line \u001b[0;32m18\u001b[0m\n\u001b[0;31m    print(get_at_content(dna=\"ATCGTGACTCG\", 2))\u001b[0m\n\u001b[0m                                           ^\u001b[0m\n\u001b[0;31mSyntaxError\u001b[0m\u001b[0;31m:\u001b[0m positional argument follows keyword argument\n"
     ]
    }
   ],
   "source": [
    "def get_at_content(dna, sig_figs): # Add a significant figures input\n",
    "    length = len(dna);\n",
    "    a_count = dna.count('A');\n",
    "    t_count = dna.count('T');\n",
    "    at_content = (a_count+t_count)/length;\n",
    "    return round(at_content,sig_figs) # Improve the rounding of the returned value\n",
    "#end\n",
    "\n",
    "# Testing keyboard arguments\n",
    "print(get_at_content(\"ATCGTGACTCG\", 2))\n",
    "print(get_at_content(dna=\"ATCGTGACTCG\", sig_figs=2))\n",
    "print(get_at_content(dna=\"ATCGTGACTCG\", sig_figs=2))\n",
    "print(get_at_content(sig_figs=2, dna=\"ATCGTGACTCG\"))\n",
    "print(get_at_content(\"ATCGTGACTCG\", 2))\n",
    "print(get_at_content(dna=\"ATCGTGACTCG\", sig_figs=2))\n",
    "print(get_at_content(\"ATCGTGACTCG\", sig_figs=2))\n",
    "\n",
    "#print(get_at_content(dna=\"ATCGTGACTCG\", 2))"
   ]
  },
  {
   "cell_type": "markdown",
   "metadata": {},
   "source": [
    "### Function argument can have defaults"
   ]
  },
  {
   "cell_type": "code",
   "execution_count": 14,
   "metadata": {},
   "outputs": [
    {
     "name": "stdout",
     "output_type": "stream",
     "text": [
      "0.45\n",
      "0.455\n",
      "0.4545\n"
     ]
    }
   ],
   "source": [
    "def get_at_content(dna, sig_figs=2): # Have a default sig_figs value, but this can be overwritten\n",
    "    length = len(dna)\n",
    "    a_count = dna.upper().count('A')\n",
    "    t_count = dna.upper().count('T')\n",
    "    at_content = (a_count + t_count) / length\n",
    "    return round(at_content, sig_figs)\n",
    "\n",
    "# Test this\n",
    "print(get_at_content(\"ATCGTGACTCG\"))\n",
    "print(get_at_content(\"ATCGTGACTCG\", 3))\n",
    "print(get_at_content(\"ATCGTGACTCG\", sig_figs=4))"
   ]
  },
  {
   "cell_type": "markdown",
   "metadata": {},
   "source": [
    "### Testing out function using assert"
   ]
  },
  {
   "cell_type": "code",
   "execution_count": 1,
   "metadata": {},
   "outputs": [],
   "source": [
    "def get_at_content(dna, sig_figs=2):\n",
    "    dna = dna.replace('N', '')\n",
    "    length = len(dna)\n",
    "    a_count = dna.upper().count('A')\n",
    "    t_count = dna.upper().count('T')\n",
    "    at_content = (a_count + t_count) / length\n",
    "    return round(at_content, sig_figs)\n",
    "\n",
    "assert get_at_content(\"ATGCNNNNNN\") == 0.5"
   ]
  }
 ],
 "metadata": {
  "kernelspec": {
   "display_name": "Python 3",
   "language": "python",
   "name": "python3"
  },
  "language_info": {
   "codemirror_mode": {
    "name": "ipython",
    "version": 3
   },
   "file_extension": ".py",
   "mimetype": "text/x-python",
   "name": "python",
   "nbconvert_exporter": "python",
   "pygments_lexer": "ipython3",
   "version": "3.7.1"
  }
 },
 "nbformat": 4,
 "nbformat_minor": 2
}
