{
 "cells": [
  {
   "cell_type": "markdown",
   "metadata": {},
   "source": [
    "# Programming for Biologists\n",
    "## Chapter 6 Exercises\n",
    "## Conditional Tests"
   ]
  },
  {
   "cell_type": "code",
   "execution_count": 13,
   "metadata": {},
   "outputs": [],
   "source": [
    "import os\n",
    "\n",
    "# Change to a directory\n",
    "os.chdir('/home/alan/Desktop/homework/p4b/textbook/conditional_tests/exercises')\n"
   ]
  },
  {
   "cell_type": "markdown",
   "metadata": {},
   "source": [
    "### Exercise 1"
   ]
  },
  {
   "cell_type": "code",
   "execution_count": 37,
   "metadata": {},
   "outputs": [
    {
     "name": "stdout",
     "output_type": "stream",
     "text": [
      "Species name: Drosophila melanogaster\n",
      "Gene name: kdy647\n",
      "Gene name: kdy647\n",
      "Sequence length: 109\n",
      "AT Content is high\n",
      "------\n",
      "Species name: Drosophila melanogaster\n",
      "Gene name: jdg766\n",
      "AT Content is medium\n",
      "------\n",
      "Species name: Drosophila simulans\n",
      "Gene name: kdy533\n",
      "Gene name: kdy533\n",
      "Sequence length: 90\n",
      "Gene name: kdy533\n",
      "AT Content is medium\n",
      "------\n",
      "Gene name: hdt739\n",
      "AT Content is low\n",
      "------\n",
      "Gene name: hdu045\n",
      "AT Content is medium\n",
      "------\n",
      "Gene name: teg436\n",
      "Sequence length: 98\n",
      "Gene name: teg436\n",
      "AT Content: 0.45918367346938777\n",
      "Expression Level: 222\n",
      "AT Content is medium\n",
      "------\n"
     ]
    }
   ],
   "source": [
    "data = open('data.csv');\n",
    "\n",
    "# Go through each line of the file\n",
    "\n",
    "for i in data:\n",
    "    # For each line of information, split the information based on commas\n",
    "    info = i.rstrip('\\n').split(\",\");\n",
    "    speciesName = info[0];\n",
    "    sequence = info[1];\n",
    "    geneName = info[2];\n",
    "    expressionLevel = info[3];\n",
    "    \n",
    "    # Several species\n",
    "    if speciesName == \"Drosophila melanogaster\" or speciesName == \"Drosophila simulans\":\n",
    "        print(\"Species name: \" + speciesName);\n",
    "        print(\"Gene name: \" + geneName);\n",
    "        \n",
    "    # Length range\n",
    "    if len(sequence)>=90 and len(sequence)<=110:\n",
    "        print(\"Gene name: \" + geneName);\n",
    "        print(\"Sequence length: \" + str(len(sequence)));\n",
    "        \n",
    "    # AT content\n",
    "    ATContent = ((sequence.upper().count('A')+sequence.upper().count('T'))/len(sequence));\n",
    "    if ATContent < 0.5 and int(expressionLevel) > 200:\n",
    "        print(\"Gene name: \" + geneName);\n",
    "        print('AT Content: ' + str(ATContent));\n",
    "        print('Expression Level: ' + str(expressionLevel));\n",
    "        \n",
    "    # Complex condition\n",
    "    if (geneName.startswith('k') or geneName.startswith('h')) and not speciesName == \"Drosophila melanogaster\":\n",
    "        print('Gene name: ' + geneName);\n",
    "    \n",
    "    # High low medium\n",
    "    if ATContent > 0.65:\n",
    "        print('AT Content is high');\n",
    "    elif ATContent < 0.45:\n",
    "        print('AT Content is low');\n",
    "    else:\n",
    "        print('AT Content is medium');\n",
    "        \n",
    "    print('------')\n",
    "        "
   ]
  },
  {
   "cell_type": "code",
   "execution_count": null,
   "metadata": {},
   "outputs": [],
   "source": []
  }
 ],
 "metadata": {
  "kernelspec": {
   "display_name": "Python 3",
   "language": "python",
   "name": "python3"
  },
  "language_info": {
   "codemirror_mode": {
    "name": "ipython",
    "version": 3
   },
   "file_extension": ".py",
   "mimetype": "text/x-python",
   "name": "python",
   "nbconvert_exporter": "python",
   "pygments_lexer": "ipython3",
   "version": "3.7.1"
  }
 },
 "nbformat": 4,
 "nbformat_minor": 2
}
