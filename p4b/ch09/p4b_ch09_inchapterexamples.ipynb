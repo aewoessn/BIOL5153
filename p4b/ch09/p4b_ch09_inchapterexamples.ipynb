{
 "cells": [
  {
   "cell_type": "markdown",
   "metadata": {},
   "source": [
    "# Programming for Biologists\n",
    "## Chapter 9 In-chapter Examples\n",
    "## Files, programs, and user input"
   ]
  },
  {
   "cell_type": "markdown",
   "metadata": {},
   "source": [
    "### Basic file manipulation"
   ]
  },
  {
   "cell_type": "code",
   "execution_count": null,
   "metadata": {},
   "outputs": [],
   "source": [
    "# Import package(s) that will be needed\n",
    "import os\n",
    "\n",
    "# Rename a file or folder using the rename method within os\n",
    "#\n",
    "# os.rename(\"old.txt\",\"new.txt\");\n",
    "\n",
    "# Make a directory using the mkdir method within os\n",
    "#\n",
    "# os.mkdir('python');\n",
    "\n",
    "# Copy a file or folder using the copy method within shutil\n",
    "#\n",
    "# shutil.copy('original.txt','copy.txt'); # For files\n",
    "#\n",
    "# shutil.copytree('originalFolder','copyFolder'); # For folders\n",
    "\n",
    "# Test if a file exists using the path.exists method within os\n",
    "#\n",
    "# if os.path.exists('test.txt'):\n",
    "#      print('Test exists');\n"
   ]
  },
  {
   "cell_type": "markdown",
   "metadata": {},
   "source": [
    "### Deleting files and folders"
   ]
  },
  {
   "cell_type": "code",
   "execution_count": null,
   "metadata": {},
   "outputs": [],
   "source": [
    "# Delete a file or folder using the remove method within os\n",
    "#\n",
    "# os.remove('unwantedFile.txt'); # For files\n",
    "#\n",
    "# os.rmdir('unwantedFolder'); # For folders\n",
    "#\n",
    "# shutil.rmtree('unwantedFolderWithFiles'); # Recursive deletion\n"
   ]
  },
  {
   "cell_type": "markdown",
   "metadata": {},
   "source": [
    "### Listing folder contents"
   ]
  },
  {
   "cell_type": "code",
   "execution_count": null,
   "metadata": {},
   "outputs": [],
   "source": [
    "# List folder contents with the listdir method within os\n",
    "# for file_name in os.listdir(\".\"):\n",
    "#     print(\"one file name is \" + file_name)"
   ]
  },
  {
   "cell_type": "markdown",
   "metadata": {},
   "source": [
    "### Running external programs"
   ]
  },
  {
   "cell_type": "code",
   "execution_count": 8,
   "metadata": {},
   "outputs": [
    {
     "name": "stdout",
     "output_type": "stream",
     "text": [
      "b'April\\n'\n"
     ]
    }
   ],
   "source": [
    "# Import required package(s)\n",
    "import subprocess\n",
    "\n",
    "# Call an executable\n",
    "subprocess.call(\"/bin/date +%B\", shell = True);\n",
    "\n",
    "# Saving program output using check_output method\n",
    "current_month = subprocess.check_output(\"/bin/date +%B\", shell = True);\n",
    "print(current_month)"
   ]
  },
  {
   "cell_type": "markdown",
   "metadata": {},
   "source": [
    "### Interactive user input"
   ]
  },
  {
   "cell_type": "code",
   "execution_count": 10,
   "metadata": {},
   "outputs": [
    {
     "name": "stdout",
     "output_type": "stream",
     "text": [
      "Enter the accession nametest\n",
      "test\n"
     ]
    }
   ],
   "source": [
    "# Get some input value\n",
    "accession = input(\"Enter the accession name\");\n",
    "print(accession)"
   ]
  }
 ],
 "metadata": {
  "kernelspec": {
   "display_name": "Python 3",
   "language": "python",
   "name": "python3"
  },
  "language_info": {
   "codemirror_mode": {
    "name": "ipython",
    "version": 3
   },
   "file_extension": ".py",
   "mimetype": "text/x-python",
   "name": "python",
   "nbconvert_exporter": "python",
   "pygments_lexer": "ipython3",
   "version": "3.7.1"
  }
 },
 "nbformat": 4,
 "nbformat_minor": 2
}
