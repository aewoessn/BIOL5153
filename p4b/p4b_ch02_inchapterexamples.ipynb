{
 "cells": [
  {
   "cell_type": "markdown",
   "metadata": {},
   "source": [
    "# Programming for Biologists\n",
    "## Chapter 2 In-Chapter Examples "
   ]
  },
  {
   "cell_type": "markdown",
   "metadata": {},
   "source": [
    "### Using the print function"
   ]
  },
  {
   "cell_type": "code",
   "execution_count": 2,
   "metadata": {
    "scrolled": true
   },
   "outputs": [
    {
     "name": "stdout",
     "output_type": "stream",
     "text": [
      "Hello World\n",
      "Hello world with single quotes\n",
      "Hello world with double quotes\n",
      "She said, 'Hello world'\n",
      "He said, \"Hello world\"\n"
     ]
    }
   ],
   "source": [
    "# Print out hello world\n",
    "print(\"Hello World\");\n",
    "\n",
    "# Try it with using single and double quotes\n",
    "print('Hello world with single quotes');\n",
    "print(\"Hello world with double quotes\");\n",
    "\n",
    "# Add quotations within a print function\n",
    "print(\"She said, 'Hello world'\");\n",
    "print('He said, \"Hello world\"');\n"
   ]
  },
  {
   "cell_type": "markdown",
   "metadata": {},
   "source": [
    "### Storing strings as variables"
   ]
  },
  {
   "cell_type": "code",
   "execution_count": 3,
   "metadata": {},
   "outputs": [
    {
     "name": "stdout",
     "output_type": "stream",
     "text": [
      "ATGCGTA\n",
      "ATGCGTA\n"
     ]
    }
   ],
   "source": [
    "# Create string variable\n",
    "my_dna = \"ATGCGTA\";\n",
    "\n",
    "# Print the data contained within the \"my_dna\" variable\n",
    "print(my_dna);\n",
    "\n",
    "# Make a new variable to show that variable names are arbitrary\n",
    "banana = \"ATGCGTA\";\n",
    "\n",
    "print(banana);"
   ]
  },
  {
   "cell_type": "markdown",
   "metadata": {},
   "source": [
    "### Manipulating strings"
   ]
  },
  {
   "cell_type": "code",
   "execution_count": 1,
   "metadata": {},
   "outputs": [
    {
     "name": "stdout",
     "output_type": "stream",
     "text": [
      "AATTGGCC\n",
      "Hello world\n",
      "4\n",
      "The length of the DNA sequence is 10\n",
      "Before: AAAATGCGGG\n",
      "After: aaaatgcggg\n",
      "Before: vlspadktnv\n",
      "After: ylspadktny\n",
      "Before: vlspadktnv\n",
      "After: ymtpadktnv\n",
      "pa\n",
      "vlspad\n"
     ]
    }
   ],
   "source": [
    "# Add two strings to concatenate them\n",
    "my_dna = \"AATT\" + \"GGCC\";\n",
    "print(my_dna);\n",
    "\n",
    "# Concanenate two strings using variables\n",
    "upstream = \"AAA\";\n",
    "downstream = \"GGG\"\n",
    "my_dna = upstream + \"ATGC\" + downstream;\n",
    "\n",
    "#Concatenate within a print function\n",
    "print(\"Hello\" + \" \" + \"world\");\n",
    "\n",
    "# Find the length of strings using the function \"len\"\n",
    "dna_length = len(\"ATGC\");\n",
    "print(dna_length);\n",
    "\n",
    "# In order to print the length, we must convert the output variable to a string\n",
    "dna_length = len(my_dna);\n",
    "print(\"The length of the DNA sequence is \" + str(dna_length));\n",
    "\n",
    "# Change everything to lower case using the \"lower\" method\n",
    "print(\"Before: \" + my_dna);\n",
    "print(\"After: \" + my_dna.lower());\n",
    "\n",
    "# Replace parts of a string using the \"replace\" method\n",
    "\n",
    "## Create a protein string variable\n",
    "protein = \"vlspadktnv\";\n",
    "\n",
    "# Replace v with y\n",
    "print(\"Before: \" + protein);\n",
    "print(\"After: \" + protein.replace(\"v\",\"y\"));\n",
    "\n",
    "# Replace vls with ymt\n",
    "print(\"Before: \" + protein)\n",
    "print(\"After: \" + protein.replace(\"vls\",\"ymt\"));\n",
    "\n",
    "# Extract part of a string\n",
    "\n",
    "# Pull out characters in positions 3 to 5\n",
    "print(protein[3:5]);\n",
    "\n",
    "# Pull out characters in positions 0 to 5\n",
    "print(protein[0:6]);\n"
   ]
  },
  {
   "cell_type": "markdown",
   "metadata": {},
   "source": [
    "### Counting and finding substrings"
   ]
  },
  {
   "cell_type": "code",
   "execution_count": 21,
   "metadata": {},
   "outputs": [
    {
     "name": "stdout",
     "output_type": "stream",
     "text": [
      "vlspadktnv\n",
      "valines: 2\n",
      "lsp: 1\n",
      "tryptophans: 0\n",
      "3\n",
      "6\n",
      "-1\n"
     ]
    }
   ],
   "source": [
    "print(protein);\n",
    "\n",
    "# Count the amino acid residues\n",
    "valineCount = protein.count('v');\n",
    "lspCount = protein.count('lsp');\n",
    "tryptophanCount = protein.count('w');\n",
    "\n",
    "# Print the counts\n",
    "print('valines: ' + str(valineCount));\n",
    "print('lsp: ' + str(lspCount));\n",
    "print('tryptophans: ' + str(tryptophanCount));\n",
    "\n",
    "# Find strings\n",
    "print(str(protein.find('p')));\n",
    "print(str(protein.find('kt')));\n",
    "print(str(protein.find('w')));\n"
   ]
  }
 ],
 "metadata": {
  "kernelspec": {
   "display_name": "Python 3",
   "language": "python",
   "name": "python3"
  },
  "language_info": {
   "codemirror_mode": {
    "name": "ipython",
    "version": 3
   },
   "file_extension": ".py",
   "mimetype": "text/x-python",
   "name": "python",
   "nbconvert_exporter": "python",
   "pygments_lexer": "ipython3",
   "version": "3.7.1"
  }
 },
 "nbformat": 4,
 "nbformat_minor": 2
}
